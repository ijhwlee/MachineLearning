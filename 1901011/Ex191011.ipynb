{
 "cells": [
  {
   "cell_type": "code",
   "execution_count": 1,
   "metadata": {},
   "outputs": [],
   "source": [
    "import numpy as np\n",
    "import matplotlib.pyplot as plt\n"
   ]
  },
  {
   "cell_type": "code",
   "execution_count": 4,
   "metadata": {},
   "outputs": [],
   "source": [
    "np.random.seed(seed=191011)\n",
    "X_min=4\n",
    "X_max=30\n",
    "X_n =16\n",
    "X=5 + 25*np.random.rand(X_n)\n",
    "Prm_c=[170, 108, 0.2]\n",
    "T=Prm_c[0]-Prm_c[1]*np.exp(-Prm_c[2]*X) + 4*np.random.rand(X_n)\n",
    "np.savez('ch5_data.npz', X=X, X_min=X_min, X_max=X_max, X_n=X_n, T=T)"
   ]
  },
  {
   "cell_type": "code",
   "execution_count": 5,
   "metadata": {},
   "outputs": [
    {
     "name": "stdout",
     "output_type": "stream",
     "text": [
      "[ 5.47040181 28.04893177 25.58194648 27.25651173  8.71825868 10.22854678\n",
      " 14.66513559 16.85204686 23.38816261 27.47654866 20.31399033 14.99442287\n",
      " 27.51517835 16.8430982  17.01534207 11.53256593]\n"
     ]
    }
   ],
   "source": [
    "print(X)"
   ]
  },
  {
   "cell_type": "code",
   "execution_count": 6,
   "metadata": {},
   "outputs": [
    {
     "name": "stdout",
     "output_type": "stream",
     "text": [
      "[ 5.47 28.05 25.58 27.26  8.72 10.23 14.67 16.85 23.39 27.48 20.31 14.99\n",
      " 27.52 16.84 17.02 11.53]\n"
     ]
    }
   ],
   "source": [
    "print(np.round(X,2))"
   ]
  },
  {
   "cell_type": "code",
   "execution_count": 7,
   "metadata": {},
   "outputs": [
    {
     "name": "stdout",
     "output_type": "stream",
     "text": [
      "[136.7  170.16 171.13 171.2  152.9  157.25 165.93 167.97 171.34 173.36\n",
      " 169.27 166.7  172.84 168.37 167.29 161.96]\n"
     ]
    }
   ],
   "source": [
    "print(np.round(T,2))"
   ]
  },
  {
   "cell_type": "code",
   "execution_count": 8,
   "metadata": {},
   "outputs": [
    {
     "data": {
      "image/png": "[encoded data removed]",
      "text/plain": [
       "<Figure size 288x288 with 1 Axes>"
      ]
     },
     "metadata": {
      "needs_background": "light"
     },
     "output_type": "display_data"
    }
   ],
   "source": [
    "plt.figure(figsize=(4,4))\n",
    "plt.plot(X, T, marker='o', linestyle='None', markeredgecolor='black', color='cyan')\n",
    "plt.xlim(X_min, X_max)\n",
    "plt.grid(True)\n",
    "plt.show()"
   ]
  },
  {
   "cell_type": "code",
   "execution_count": null,
   "metadata": {},
   "outputs": [],
   "source": []
  }
 ],
 "metadata": {
  "kernelspec": {
   "display_name": "Python 3",
   "language": "python",
   "name": "python3"
  },
  "language_info": {
   "codemirror_mode": {
    "name": "ipython",
    "version": 3
   },
   "file_extension": ".py",
   "mimetype": "text/x-python",
   "name": "python",
   "nbconvert_exporter": "python",
   "pygments_lexer": "ipython3",
   "version": "3.7.3"
  }
 },
 "nbformat": 4,
 "nbformat_minor": 2
}
